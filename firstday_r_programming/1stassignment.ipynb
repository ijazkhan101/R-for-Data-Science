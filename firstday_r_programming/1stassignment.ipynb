{
 "cells": [
  {
   "attachments": {},
   "cell_type": "markdown",
   "metadata": {},
   "source": [
    "### data from different file formats into R"
   ]
  },
  {
   "attachments": {},
   "cell_type": "markdown",
   "metadata": {},
   "source": [
    "## File type\t   Extension\t    package::function"
   ]
  },
  {
   "attachments": {},
   "cell_type": "markdown",
   "metadata": {},
   "source": [
    "CSV\t           \n",
    ".csv\t            \n",
    "readr::read_csv()\n"
   ]
  },
  {
   "attachments": {},
   "cell_type": "markdown",
   "metadata": {},
   "source": [
    "Excel\t       \n",
    ".xls or .xlsx\t\n",
    "readxl:read_excel()"
   ]
  },
  {
   "attachments": {},
   "cell_type": "markdown",
   "metadata": {},
   "source": [
    "Plain text\t   \n",
    ".txt\t            \n",
    "readr::read_lines()"
   ]
  },
  {
   "attachments": {},
   "cell_type": "markdown",
   "metadata": {},
   "source": [
    "SPSS\t       \n",
    ".sav\t            \n",
    "haven::read_sav()"
   ]
  },
  {
   "attachments": {},
   "cell_type": "markdown",
   "metadata": {},
   "source": [
    "Binary R data  \n",
    ".rds\t            \n",
    "readr::read_rds()"
   ]
  },
  {
   "attachments": {},
   "cell_type": "markdown",
   "metadata": {},
   "source": [
    "JSON\t       \n",
    ".json\t        \n",
    "jsonlite::fromJSON()"
   ]
  }
 ],
 "metadata": {
  "kernelspec": {
   "display_name": "jazz",
   "language": "python",
   "name": "python3"
  },
  "language_info": {
   "codemirror_mode": {
    "name": "ipython",
    "version": 3
   },
   "file_extension": ".py",
   "mimetype": "text/x-python",
   "name": "python",
   "nbconvert_exporter": "python",
   "pygments_lexer": "ipython3",
   "version": "3.9.16"
  },
  "orig_nbformat": 4,
  "vscode": {
   "interpreter": {
    "hash": "caff861349737f94cf674bc0f63d83e42fbe9ddc1e97c1624f61bf3fba3ecc44"
   }
  }
 },
 "nbformat": 4,
 "nbformat_minor": 2
}
