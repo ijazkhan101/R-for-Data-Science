{
 "cells": [
  {
   "attachments": {},
   "cell_type": "markdown",
   "metadata": {},
   "source": [
    "### data from different file formats into R"
   ]
  },
  {
   "attachments": {},
   "cell_type": "markdown",
   "metadata": {},
   "source": [
    "File type\t   Extension\t    package::function\n",
    "CSV\t           .csv\t            readr::read_csv()\n",
    "Excel\t       .xls or .xlsx\treadxl:read_excel()\n",
    "Plain text\t   .txt\t            readr::read_lines()\n",
    "SPSS\t       .sav\t            haven::read_sav()\n",
    "Binary R data  .rds\t            readr::read_rds()\n",
    "JSON\t       .json\t        jsonlite::fromJSON()"
   ]
  },
  {
   "cell_type": "code",
   "execution_count": null,
   "metadata": {},
   "outputs": [],
   "source": [
    "import imageio as iio\n",
    "\n",
    "img = iio.iread('Rfiletype.png')"
   ]
  }
 ],
 "metadata": {
  "language_info": {
   "name": "python"
  },
  "orig_nbformat": 4
 },
 "nbformat": 4,
 "nbformat_minor": 2
}
